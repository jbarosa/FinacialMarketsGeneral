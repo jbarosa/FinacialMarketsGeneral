{
 "cells": [
  {
   "cell_type": "code",
   "execution_count": 1,
   "id": "54b3e01e-6f41-4987-b606-6017ac6f3160",
   "metadata": {},
   "outputs": [],
   "source": [
    "import financial_formulas as fin_form\n",
    "import pandas as pd\n",
    "from ipywidgets import interact, fixed, interactive, interact_manual"
   ]
  },
  {
   "cell_type": "code",
   "execution_count": 2,
   "id": "53c34a54-60d3-46a0-b65f-e39cb08da14d",
   "metadata": {},
   "outputs": [],
   "source": [
    "def function_1(x, y):\n",
    "    return x*y"
   ]
  },
  {
   "cell_type": "code",
   "execution_count": 3,
   "id": "35da6389-14b9-48c2-94ce-22daf0692878",
   "metadata": {},
   "outputs": [
    {
     "data": {
      "application/vnd.jupyter.widget-view+json": {
       "model_id": "fd69399003264a67be54ee395c3799a9",
       "version_major": 2,
       "version_minor": 0
      },
      "text/plain": [
       "interactive(children=(IntSlider(value=20, description='x', max=60, min=-20), IntSlider(value=5, description='y…"
      ]
     },
     "metadata": {},
     "output_type": "display_data"
    },
    {
     "data": {
      "text/plain": [
       "<function __main__.function_1(x, y)>"
      ]
     },
     "execution_count": 3,
     "metadata": {},
     "output_type": "execute_result"
    }
   ],
   "source": [
    "interact (function_1, x=20, y=5)"
   ]
  },
  {
   "cell_type": "code",
   "execution_count": 4,
   "id": "0074ce5d-85b7-40dd-8847-b7ee1d68620b",
   "metadata": {},
   "outputs": [
    {
     "data": {
      "application/vnd.jupyter.widget-view+json": {
       "model_id": "47a390a8674848068608b4b94cd7c7cc",
       "version_major": 2,
       "version_minor": 0
      },
      "text/plain": [
       "interactive(children=(IntSlider(value=100, description='S', max=130, min=70), IntSlider(value=100, description…"
      ]
     },
     "metadata": {},
     "output_type": "display_data"
    },
    {
     "data": {
      "text/plain": [
       "<function financial_formulas.down_and_in_put_black_scholes(S, K, T, sigma, drift, B)>"
      ]
     },
     "execution_count": 4,
     "metadata": {},
     "output_type": "execute_result"
    }
   ],
   "source": [
    "interact(fin_form.down_and_in_put_black_scholes, S= (70, 130), K=(70, 130), T=fixed(1), sigma=(0.1, 0.9), drift=fixed(0.05), B=(70,100) )"
   ]
  },
  {
   "cell_type": "code",
   "execution_count": null,
   "id": "bba92bac-dfab-4cd7-aa8a-c62052f432eb",
   "metadata": {},
   "outputs": [],
   "source": []
  },
  {
   "cell_type": "code",
   "execution_count": null,
   "id": "e7711a3d-51ed-46a8-9a97-6a9019fb9050",
   "metadata": {},
   "outputs": [],
   "source": []
  },
  {
   "cell_type": "code",
   "execution_count": null,
   "id": "730b1df3-63c5-43b9-87e1-fa857c182491",
   "metadata": {},
   "outputs": [],
   "source": []
  }
 ],
 "metadata": {
  "kernelspec": {
   "display_name": "Python 3 (ipykernel)",
   "language": "python",
   "name": "python3"
  },
  "language_info": {
   "codemirror_mode": {
    "name": "ipython",
    "version": 3
   },
   "file_extension": ".py",
   "mimetype": "text/x-python",
   "name": "python",
   "nbconvert_exporter": "python",
   "pygments_lexer": "ipython3",
   "version": "3.12.0"
  }
 },
 "nbformat": 4,
 "nbformat_minor": 5
}
